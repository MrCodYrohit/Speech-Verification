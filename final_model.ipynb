{
 "cells": [
  {
   "cell_type": "code",
   "execution_count": 1,
   "id": "ce9c8c99",
   "metadata": {
    "execution": {
     "iopub.execute_input": "2023-11-26T17:45:46.388385Z",
     "iopub.status.busy": "2023-11-26T17:45:46.387413Z",
     "iopub.status.idle": "2023-11-26T17:45:49.220926Z",
     "shell.execute_reply": "2023-11-26T17:45:49.219243Z"
    },
    "papermill": {
     "duration": 2.861577,
     "end_time": "2023-11-26T17:45:49.224554",
     "exception": false,
     "start_time": "2023-11-26T17:45:46.362977",
     "status": "completed"
    },
    "tags": []
   },
   "outputs": [],
   "source": [
    "import os\n",
    "import librosa\n",
    "import random\n",
    "import matplotlib.pyplot as plt\n",
    "from collections import Counter\n",
    "import numpy as np\n",
    "from sklearn.mixture import GaussianMixture\n",
    "#import python_speech_features as mfcc\n",
    "from sklearn.metrics import silhouette_score\n",
    "from sklearn.decomposition import PCA\n",
    "from tqdm import tqdm\n",
    "import joblib\n",
    "from sklearn.model_selection import train_test_split\n",
    "import pandas as pd\n",
    "from sklearn.metrics import accuracy_score"
   ]
  },
  {
   "cell_type": "code",
   "execution_count": 2,
   "id": "6034933a",
   "metadata": {
    "execution": {
     "iopub.execute_input": "2023-11-26T17:45:49.270400Z",
     "iopub.status.busy": "2023-11-26T17:45:49.269426Z",
     "iopub.status.idle": "2023-11-26T17:45:49.303999Z",
     "shell.execute_reply": "2023-11-26T17:45:49.302376Z"
    },
    "papermill": {
     "duration": 0.06246,
     "end_time": "2023-11-26T17:45:49.307704",
     "exception": false,
     "start_time": "2023-11-26T17:45:49.245244",
     "status": "completed"
    },
    "tags": []
   },
   "outputs": [],
   "source": [
    "import os\n",
    "import numpy as np\n",
    "import shutil\n",
    "import pandas as pd\n",
    "import numpy as np\n",
    "import matplotlib.pyplot as plt\n",
    "import librosa\n",
    "import soundfile as sf\n",
    "from pathlib import Path\n",
    "from IPython.display import display, Audio"
   ]
  },
  {
   "cell_type": "code",
   "execution_count": 3,
   "id": "5aab8326",
   "metadata": {
    "execution": {
     "iopub.execute_input": "2023-11-26T17:45:49.357995Z",
     "iopub.status.busy": "2023-11-26T17:45:49.356281Z",
     "iopub.status.idle": "2023-11-26T17:45:49.362364Z",
     "shell.execute_reply": "2023-11-26T17:45:49.361415Z"
    },
    "papermill": {
     "duration": 0.031502,
     "end_time": "2023-11-26T17:45:49.364676",
     "exception": false,
     "start_time": "2023-11-26T17:45:49.333174",
     "status": "completed"
    },
    "tags": []
   },
   "outputs": [],
   "source": [
    "#shutil.rmtree(\"/kaggle/working/speaker-recognition-dataset\")"
   ]
  },
  {
   "cell_type": "code",
   "execution_count": null,
   "id": "be18f06a",
   "metadata": {
    "papermill": {
     "duration": 0.027919,
     "end_time": "2023-11-26T17:45:49.418223",
     "exception": false,
     "start_time": "2023-11-26T17:45:49.390304",
     "status": "completed"
    },
    "tags": []
   },
   "outputs": [],
   "source": []
  },
  {
   "cell_type": "code",
   "execution_count": 4,
   "id": "67278f08",
   "metadata": {
    "execution": {
     "iopub.execute_input": "2023-11-26T17:45:49.470360Z",
     "iopub.status.busy": "2023-11-26T17:45:49.469503Z",
     "iopub.status.idle": "2023-11-26T17:46:19.563125Z",
     "shell.execute_reply": "2023-11-26T17:46:19.561637Z"
    },
    "papermill": {
     "duration": 30.123179,
     "end_time": "2023-11-26T17:46:19.566319",
     "exception": false,
     "start_time": "2023-11-26T17:45:49.443140",
     "status": "completed"
    },
    "tags": []
   },
   "outputs": [],
   "source": [
    "!cp -r \"../input/speaker-recognition-dataset\" ./"
   ]
  },
  {
   "cell_type": "code",
   "execution_count": 5,
   "id": "db8e7a2f",
   "metadata": {
    "execution": {
     "iopub.execute_input": "2023-11-26T17:46:19.610045Z",
     "iopub.status.busy": "2023-11-26T17:46:19.609323Z",
     "iopub.status.idle": "2023-11-26T17:46:19.615150Z",
     "shell.execute_reply": "2023-11-26T17:46:19.614244Z"
    },
    "papermill": {
     "duration": 0.030764,
     "end_time": "2023-11-26T17:46:19.617735",
     "exception": false,
     "start_time": "2023-11-26T17:46:19.586971",
     "status": "completed"
    },
    "tags": []
   },
   "outputs": [],
   "source": [
    "data_directory = \"./speaker-recognition-dataset/16000_pcm_speeches\"\n",
    "audio_folder = \"audio\"\n",
    "noise_folder = \"noise\"\n",
    "\n",
    "audio_path = os.path.join(data_directory, audio_folder)\n",
    "noise_path = os.path.join(data_directory, noise_folder)"
   ]
  },
  {
   "cell_type": "code",
   "execution_count": 6,
   "id": "6a61f00f",
   "metadata": {
    "execution": {
     "iopub.execute_input": "2023-11-26T17:46:19.661420Z",
     "iopub.status.busy": "2023-11-26T17:46:19.660798Z",
     "iopub.status.idle": "2023-11-26T17:46:19.996373Z",
     "shell.execute_reply": "2023-11-26T17:46:19.995212Z"
    },
    "papermill": {
     "duration": 0.360152,
     "end_time": "2023-11-26T17:46:19.999399",
     "exception": false,
     "start_time": "2023-11-26T17:46:19.639247",
     "status": "completed"
    },
    "tags": []
   },
   "outputs": [],
   "source": [
    "for folder in os.listdir(data_directory):\n",
    "    if os.path.isdir(os.path.join(data_directory, folder)):\n",
    "        if folder in [audio_folder, noise_folder]:\n",
    "            \n",
    "            continue\n",
    "        elif folder in [\"other\", \"_background_noise_\"]:\n",
    "            \n",
    "            shutil.move(\n",
    "                os.path.join(data_directory, folder),\n",
    "                os.path.join(noise_path, folder),\n",
    "            )\n",
    "        else:\n",
    "            shutil.move(\n",
    "                os.path.join(data_directory, folder),\n",
    "                os.path.join(audio_path, folder),\n",
    "            )"
   ]
  },
  {
   "cell_type": "code",
   "execution_count": 7,
   "id": "0bd84d70",
   "metadata": {
    "execution": {
     "iopub.execute_input": "2023-11-26T17:46:20.041701Z",
     "iopub.status.busy": "2023-11-26T17:46:20.040939Z",
     "iopub.status.idle": "2023-11-26T17:46:20.051133Z",
     "shell.execute_reply": "2023-11-26T17:46:20.049894Z"
    },
    "papermill": {
     "duration": 0.034718,
     "end_time": "2023-11-26T17:46:20.053993",
     "exception": false,
     "start_time": "2023-11-26T17:46:20.019275",
     "status": "completed"
    },
    "tags": []
   },
   "outputs": [
    {
     "data": {
      "text/plain": [
       "[2, 4]"
      ]
     },
     "execution_count": 7,
     "metadata": {},
     "output_type": "execute_result"
    }
   ],
   "source": [
    "num_noise=[]\n",
    "for i in os.listdir(noise_path):\n",
    "    p=os.listdir(noise_path+\"/\"+i)\n",
    "    len_class=len(p)\n",
    "    num_noise.append(len_class)\n",
    "num_noise"
   ]
  },
  {
   "cell_type": "code",
   "execution_count": 8,
   "id": "7febf9b8",
   "metadata": {
    "execution": {
     "iopub.execute_input": "2023-11-26T17:46:20.095655Z",
     "iopub.status.busy": "2023-11-26T17:46:20.095138Z",
     "iopub.status.idle": "2023-11-26T17:46:20.102931Z",
     "shell.execute_reply": "2023-11-26T17:46:20.101726Z"
    },
    "papermill": {
     "duration": 0.032016,
     "end_time": "2023-11-26T17:46:20.105656",
     "exception": false,
     "start_time": "2023-11-26T17:46:20.073640",
     "status": "completed"
    },
    "tags": []
   },
   "outputs": [],
   "source": [
    "noise_paths = []\n",
    "for subdir in os.listdir(noise_path):\n",
    "    subdir_path = Path(noise_path) / subdir\n",
    "    if os.path.isdir(subdir_path):\n",
    "        noise_paths += [\n",
    "            os.path.join(subdir_path, filepath)\n",
    "            for filepath in os.listdir(subdir_path)\n",
    "            if filepath.endswith(\".wav\")\n",
    "        ]"
   ]
  },
  {
   "cell_type": "code",
   "execution_count": 9,
   "id": "6a028364",
   "metadata": {
    "execution": {
     "iopub.execute_input": "2023-11-26T17:46:20.148298Z",
     "iopub.status.busy": "2023-11-26T17:46:20.147236Z",
     "iopub.status.idle": "2023-11-26T17:46:22.096374Z",
     "shell.execute_reply": "2023-11-26T17:46:22.095517Z"
    },
    "papermill": {
     "duration": 1.973638,
     "end_time": "2023-11-26T17:46:22.099226",
     "exception": false,
     "start_time": "2023-11-26T17:46:20.125588",
     "status": "completed"
    },
    "tags": []
   },
   "outputs": [
    {
     "data": {
      "text/plain": [
       "0"
      ]
     },
     "execution_count": 9,
     "metadata": {},
     "output_type": "execute_result"
    }
   ],
   "source": [
    "command = (\n",
    "    \"for dir in `ls -1 \" + noise_path + \"`; do \"\n",
    "    \"for file in `ls -1 \" + noise_path + \"/$dir/*.wav`; do \"\n",
    "    \"sample_rate=`ffprobe -hide_banner -loglevel panic -show_streams \"\n",
    "    \"$file | grep sample_rate | cut -f2 -d=`; \"\n",
    "    \"if [ $sample_rate -ne 16000 ]; then \"\n",
    "    \"ffmpeg -hide_banner -loglevel panic -y \"\n",
    "    \"-i $file -ar 16000 temp.wav; \"\n",
    "    \"mv temp.wav $file; \"\n",
    "    \"fi; done; done\"\n",
    ")\n",
    "os.system(command)"
   ]
  },
  {
   "cell_type": "code",
   "execution_count": 10,
   "id": "71ad047d",
   "metadata": {
    "execution": {
     "iopub.execute_input": "2023-11-26T17:46:22.140891Z",
     "iopub.status.busy": "2023-11-26T17:46:22.140400Z",
     "iopub.status.idle": "2023-11-26T17:46:35.045617Z",
     "shell.execute_reply": "2023-11-26T17:46:35.044214Z"
    },
    "papermill": {
     "duration": 12.929867,
     "end_time": "2023-11-26T17:46:35.048994",
     "exception": false,
     "start_time": "2023-11-26T17:46:22.119127",
     "status": "completed"
    },
    "tags": []
   },
   "outputs": [
    {
     "name": "stdout",
     "output_type": "stream",
     "text": [
      "6 noise files were split into 354 noise samples where each is 1 sec. long\n"
     ]
    }
   ],
   "source": [
    "SAMPLING_RATE = 16000\n",
    "\n",
    "def load_noise_sample(path):\n",
    "    # Load the audio file with librosa\n",
    "    sample, sampling_rate = librosa.load(path, sr=None)\n",
    "\n",
    "    if sampling_rate == SAMPLING_RATE:\n",
    "        # Number of slices of 16000 each that can be generated from the noise sample\n",
    "        slices = int(len(sample) / SAMPLING_RATE)\n",
    "        \n",
    "        # Reshape the array to create slices\n",
    "        sample = np.reshape(sample[:slices * SAMPLING_RATE], (slices, SAMPLING_RATE))\n",
    "        \n",
    "        return sample\n",
    "    else:\n",
    "        print(\"Sampling rate for {} is incorrect. Ignoring it\".format(path))\n",
    "        return None\n",
    "\n",
    "noises = []\n",
    "for path in noise_paths:\n",
    "    sample = load_noise_sample(path)\n",
    "    if sample is not None:\n",
    "        noises.extend(sample)\n",
    "\n",
    "# Convert list to numpy array\n",
    "noises = np.array(noises)\n",
    "\n",
    "print(\n",
    "    \"{} noise files were split into {} noise samples where each is {} sec. long\".format(\n",
    "        len(noise_paths), len(noises), SAMPLING_RATE // SAMPLING_RATE\n",
    "    )\n",
    ")"
   ]
  },
  {
   "cell_type": "code",
   "execution_count": 11,
   "id": "907e69c2",
   "metadata": {
    "execution": {
     "iopub.execute_input": "2023-11-26T17:46:35.169966Z",
     "iopub.status.busy": "2023-11-26T17:46:35.168181Z",
     "iopub.status.idle": "2023-11-26T17:46:35.178262Z",
     "shell.execute_reply": "2023-11-26T17:46:35.177401Z"
    },
    "papermill": {
     "duration": 0.111213,
     "end_time": "2023-11-26T17:46:35.180496",
     "exception": false,
     "start_time": "2023-11-26T17:46:35.069283",
     "status": "completed"
    },
    "tags": []
   },
   "outputs": [
    {
     "data": {
      "text/plain": [
       "array([[ 0.6796875 ,  0.32202148,  0.41156006, ..., -0.07870483,\n",
       "        -0.00308228,  0.1557312 ],\n",
       "       [ 0.12347412, -0.0255127 , -0.06317139, ...,  0.03457642,\n",
       "         0.2083435 ,  0.4513855 ],\n",
       "       [ 0.42971802,  0.2899475 ,  0.40582275, ..., -0.59317017,\n",
       "        -0.49490356, -0.60446167],\n",
       "       ...,\n",
       "       [ 0.04284668,  0.00843811, -0.00296021, ...,  0.03219604,\n",
       "        -0.00515747, -0.03042603],\n",
       "       [-0.04034424, -0.04818726, -0.05633545, ...,  0.00631714,\n",
       "         0.03829956,  0.02713013],\n",
       "       [-0.02148438, -0.05950928, -0.05187988, ..., -0.00717163,\n",
       "        -0.01553345, -0.01739502]], dtype=float32)"
      ]
     },
     "execution_count": 11,
     "metadata": {},
     "output_type": "execute_result"
    }
   ],
   "source": [
    "noises"
   ]
  },
  {
   "cell_type": "code",
   "execution_count": 12,
   "id": "8f0927ec",
   "metadata": {
    "execution": {
     "iopub.execute_input": "2023-11-26T17:46:35.223458Z",
     "iopub.status.busy": "2023-11-26T17:46:35.222093Z",
     "iopub.status.idle": "2023-11-26T17:46:35.231133Z",
     "shell.execute_reply": "2023-11-26T17:46:35.229557Z"
    },
    "papermill": {
     "duration": 0.034493,
     "end_time": "2023-11-26T17:46:35.234959",
     "exception": false,
     "start_time": "2023-11-26T17:46:35.200466",
     "status": "completed"
    },
    "tags": []
   },
   "outputs": [],
   "source": [
    "def return_features(audio):\n",
    "  y, sr = librosa.load(audio, sr=None)\n",
    "  mfccs = librosa.feature.mfcc(y=y, sr=sr, n_mfcc=13)\n",
    "  mfcc_delta = librosa.feature.delta(mfccs)\n",
    "  mfcc_delta2 = librosa.feature.delta(mfccs, order=2)\n",
    "  #zero_c = librosa.zero_crossings(mfccs, pad=False)\n",
    "  #spectral_c = librosa.feature.spectral_centroid(y=y, sr=sr)[0]\n",
    "  #spectral_con = librosa.feature.spectral_contrast(y=y,sr=sr)\n",
    "  features = np.vstack([mfccs, mfcc_delta, mfcc_delta2])\n",
    "  #features_pca = pca.fit_transform(features)\n",
    "  return (features.T)"
   ]
  },
  {
   "cell_type": "code",
   "execution_count": 13,
   "id": "94d58663",
   "metadata": {
    "execution": {
     "iopub.execute_input": "2023-11-26T17:46:35.278951Z",
     "iopub.status.busy": "2023-11-26T17:46:35.278456Z",
     "iopub.status.idle": "2023-11-26T17:46:35.283773Z",
     "shell.execute_reply": "2023-11-26T17:46:35.282834Z"
    },
    "papermill": {
     "duration": 0.02989,
     "end_time": "2023-11-26T17:46:35.286148",
     "exception": false,
     "start_time": "2023-11-26T17:46:35.256258",
     "status": "completed"
    },
    "tags": []
   },
   "outputs": [],
   "source": [
    "class_label ={'Benjamin_Netanyau': 0, 'Jens_Stoltenberg': 1, 'Julia_Gillard': 2, 'Magaret_Tarcher': 3, 'Nelson_Mandela': 4}"
   ]
  },
  {
   "cell_type": "code",
   "execution_count": 14,
   "id": "02f53d82",
   "metadata": {
    "execution": {
     "iopub.execute_input": "2023-11-26T17:46:35.329342Z",
     "iopub.status.busy": "2023-11-26T17:46:35.328367Z",
     "iopub.status.idle": "2023-11-26T17:46:35.332775Z",
     "shell.execute_reply": "2023-11-26T17:46:35.331993Z"
    },
    "papermill": {
     "duration": 0.028482,
     "end_time": "2023-11-26T17:46:35.335097",
     "exception": false,
     "start_time": "2023-11-26T17:46:35.306615",
     "status": "completed"
    },
    "tags": []
   },
   "outputs": [],
   "source": [
    "path = '/kaggle/working/speaker-recognition-dataset/16000_pcm_speeches/audio'"
   ]
  },
  {
   "cell_type": "code",
   "execution_count": 15,
   "id": "85310037",
   "metadata": {
    "execution": {
     "iopub.execute_input": "2023-11-26T17:46:35.378742Z",
     "iopub.status.busy": "2023-11-26T17:46:35.377614Z",
     "iopub.status.idle": "2023-11-26T17:46:35.385034Z",
     "shell.execute_reply": "2023-11-26T17:46:35.384115Z"
    },
    "papermill": {
     "duration": 0.031548,
     "end_time": "2023-11-26T17:46:35.387329",
     "exception": false,
     "start_time": "2023-11-26T17:46:35.355781",
     "status": "completed"
    },
    "tags": []
   },
   "outputs": [
    {
     "data": {
      "text/plain": [
       "['Julia_Gillard',\n",
       " 'Magaret_Tarcher',\n",
       " 'Nelson_Mandela',\n",
       " 'Benjamin_Netanyau',\n",
       " 'Jens_Stoltenberg']"
      ]
     },
     "execution_count": 15,
     "metadata": {},
     "output_type": "execute_result"
    }
   ],
   "source": [
    "os.listdir(path)"
   ]
  },
  {
   "cell_type": "code",
   "execution_count": null,
   "id": "b004e0f0",
   "metadata": {
    "papermill": {
     "duration": 0.020161,
     "end_time": "2023-11-26T17:46:35.428134",
     "exception": false,
     "start_time": "2023-11-26T17:46:35.407973",
     "status": "completed"
    },
    "tags": []
   },
   "outputs": [],
   "source": []
  },
  {
   "cell_type": "markdown",
   "id": "c45f9abc",
   "metadata": {
    "papermill": {
     "duration": 0.019725,
     "end_time": "2023-11-26T17:46:35.468164",
     "exception": false,
     "start_time": "2023-11-26T17:46:35.448439",
     "status": "completed"
    },
    "tags": []
   },
   "source": [
    "## Rename Files"
   ]
  },
  {
   "cell_type": "code",
   "execution_count": 16,
   "id": "562bc017",
   "metadata": {
    "execution": {
     "iopub.execute_input": "2023-11-26T17:46:35.513056Z",
     "iopub.status.busy": "2023-11-26T17:46:35.512524Z",
     "iopub.status.idle": "2023-11-26T17:46:35.759728Z",
     "shell.execute_reply": "2023-11-26T17:46:35.758545Z"
    },
    "papermill": {
     "duration": 0.272541,
     "end_time": "2023-11-26T17:46:35.762396",
     "exception": false,
     "start_time": "2023-11-26T17:46:35.489855",
     "status": "completed"
    },
    "tags": []
   },
   "outputs": [
    {
     "name": "stderr",
     "output_type": "stream",
     "text": [
      "100%|██████████| 5/5 [00:00<00:00, 21.25it/s]\n"
     ]
    }
   ],
   "source": [
    "for i in tqdm(class_label):\n",
    "    folder_path = os.path.join(path,i)\n",
    "    for file_name in os.listdir(folder_path):\n",
    "        audio_file = os.path.join(folder_path,file_name)\n",
    "        audio_name = i + '_' + file_name\n",
    "        new_audio_name = os.path.join(folder_path,audio_name)\n",
    "        #print(audio_file)\n",
    "        os.rename(audio_file,new_audio_name)"
   ]
  },
  {
   "cell_type": "code",
   "execution_count": 17,
   "id": "d63d4478",
   "metadata": {
    "execution": {
     "iopub.execute_input": "2023-11-26T17:46:35.810566Z",
     "iopub.status.busy": "2023-11-26T17:46:35.809682Z",
     "iopub.status.idle": "2023-11-26T17:46:35.823486Z",
     "shell.execute_reply": "2023-11-26T17:46:35.822407Z"
    },
    "papermill": {
     "duration": 0.042385,
     "end_time": "2023-11-26T17:46:35.826479",
     "exception": false,
     "start_time": "2023-11-26T17:46:35.784094",
     "status": "completed"
    },
    "tags": []
   },
   "outputs": [],
   "source": [
    "file_list = []\n",
    "class_list = []\n",
    "for i in class_label:\n",
    "    folder_path = os.path.join(path,i)\n",
    "    for file_name in os.listdir(folder_path):\n",
    "        file_list.append(file_name)\n",
    "        class_list.append(i)\n",
    "    "
   ]
  },
  {
   "cell_type": "code",
   "execution_count": 18,
   "id": "5f05aac0",
   "metadata": {
    "execution": {
     "iopub.execute_input": "2023-11-26T17:46:35.874038Z",
     "iopub.status.busy": "2023-11-26T17:46:35.872952Z",
     "iopub.status.idle": "2023-11-26T17:46:35.920501Z",
     "shell.execute_reply": "2023-11-26T17:46:35.919269Z"
    },
    "papermill": {
     "duration": 0.075218,
     "end_time": "2023-11-26T17:46:35.924072",
     "exception": false,
     "start_time": "2023-11-26T17:46:35.848854",
     "status": "completed"
    },
    "tags": []
   },
   "outputs": [],
   "source": [
    "file_path='dataset.csv'\n",
    "test_pred = pd.DataFrame({'Filename': file_list, 'TARGET': class_list})\n",
    "test_pred.to_csv(file_path, mode='w', header=True, index=False)"
   ]
  },
  {
   "cell_type": "code",
   "execution_count": 19,
   "id": "a3a934df",
   "metadata": {
    "execution": {
     "iopub.execute_input": "2023-11-26T17:46:35.968359Z",
     "iopub.status.busy": "2023-11-26T17:46:35.967935Z",
     "iopub.status.idle": "2023-11-26T17:46:35.975243Z",
     "shell.execute_reply": "2023-11-26T17:46:35.974121Z"
    },
    "papermill": {
     "duration": 0.032093,
     "end_time": "2023-11-26T17:46:35.977543",
     "exception": false,
     "start_time": "2023-11-26T17:46:35.945450",
     "status": "completed"
    },
    "tags": []
   },
   "outputs": [
    {
     "data": {
      "text/plain": [
       "7501"
      ]
     },
     "execution_count": 19,
     "metadata": {},
     "output_type": "execute_result"
    }
   ],
   "source": [
    "len(file_list)"
   ]
  },
  {
   "cell_type": "code",
   "execution_count": 20,
   "id": "7ce882de",
   "metadata": {
    "execution": {
     "iopub.execute_input": "2023-11-26T17:46:36.022386Z",
     "iopub.status.busy": "2023-11-26T17:46:36.021956Z",
     "iopub.status.idle": "2023-11-26T17:46:36.041171Z",
     "shell.execute_reply": "2023-11-26T17:46:36.039735Z"
    },
    "papermill": {
     "duration": 0.045258,
     "end_time": "2023-11-26T17:46:36.044208",
     "exception": false,
     "start_time": "2023-11-26T17:46:35.998950",
     "status": "completed"
    },
    "tags": []
   },
   "outputs": [],
   "source": [
    "data_set = pd.read_csv('dataset.csv')"
   ]
  },
  {
   "cell_type": "code",
   "execution_count": 21,
   "id": "a008ce45",
   "metadata": {
    "execution": {
     "iopub.execute_input": "2023-11-26T17:46:36.089295Z",
     "iopub.status.busy": "2023-11-26T17:46:36.088837Z",
     "iopub.status.idle": "2023-11-26T17:46:36.112473Z",
     "shell.execute_reply": "2023-11-26T17:46:36.111231Z"
    },
    "papermill": {
     "duration": 0.050497,
     "end_time": "2023-11-26T17:46:36.116166",
     "exception": false,
     "start_time": "2023-11-26T17:46:36.065669",
     "status": "completed"
    },
    "tags": []
   },
   "outputs": [
    {
     "data": {
      "text/html": [
       "<div>\n",
       "<style scoped>\n",
       "    .dataframe tbody tr th:only-of-type {\n",
       "        vertical-align: middle;\n",
       "    }\n",
       "\n",
       "    .dataframe tbody tr th {\n",
       "        vertical-align: top;\n",
       "    }\n",
       "\n",
       "    .dataframe thead th {\n",
       "        text-align: right;\n",
       "    }\n",
       "</style>\n",
       "<table border=\"1\" class=\"dataframe\">\n",
       "  <thead>\n",
       "    <tr style=\"text-align: right;\">\n",
       "      <th></th>\n",
       "      <th>Filename</th>\n",
       "      <th>TARGET</th>\n",
       "    </tr>\n",
       "  </thead>\n",
       "  <tbody>\n",
       "    <tr>\n",
       "      <th>0</th>\n",
       "      <td>Benjamin_Netanyau_1194.wav</td>\n",
       "      <td>Benjamin_Netanyau</td>\n",
       "    </tr>\n",
       "    <tr>\n",
       "      <th>1</th>\n",
       "      <td>Benjamin_Netanyau_260.wav</td>\n",
       "      <td>Benjamin_Netanyau</td>\n",
       "    </tr>\n",
       "    <tr>\n",
       "      <th>2</th>\n",
       "      <td>Benjamin_Netanyau_1032.wav</td>\n",
       "      <td>Benjamin_Netanyau</td>\n",
       "    </tr>\n",
       "    <tr>\n",
       "      <th>3</th>\n",
       "      <td>Benjamin_Netanyau_536.wav</td>\n",
       "      <td>Benjamin_Netanyau</td>\n",
       "    </tr>\n",
       "    <tr>\n",
       "      <th>4</th>\n",
       "      <td>Benjamin_Netanyau_855.wav</td>\n",
       "      <td>Benjamin_Netanyau</td>\n",
       "    </tr>\n",
       "    <tr>\n",
       "      <th>...</th>\n",
       "      <td>...</td>\n",
       "      <td>...</td>\n",
       "    </tr>\n",
       "    <tr>\n",
       "      <th>7496</th>\n",
       "      <td>Nelson_Mandela_1266.wav</td>\n",
       "      <td>Nelson_Mandela</td>\n",
       "    </tr>\n",
       "    <tr>\n",
       "      <th>7497</th>\n",
       "      <td>Nelson_Mandela_951.wav</td>\n",
       "      <td>Nelson_Mandela</td>\n",
       "    </tr>\n",
       "    <tr>\n",
       "      <th>7498</th>\n",
       "      <td>Nelson_Mandela_748.wav</td>\n",
       "      <td>Nelson_Mandela</td>\n",
       "    </tr>\n",
       "    <tr>\n",
       "      <th>7499</th>\n",
       "      <td>Nelson_Mandela_87.wav</td>\n",
       "      <td>Nelson_Mandela</td>\n",
       "    </tr>\n",
       "    <tr>\n",
       "      <th>7500</th>\n",
       "      <td>Nelson_Mandela_1344.wav</td>\n",
       "      <td>Nelson_Mandela</td>\n",
       "    </tr>\n",
       "  </tbody>\n",
       "</table>\n",
       "<p>7501 rows × 2 columns</p>\n",
       "</div>"
      ],
      "text/plain": [
       "                        Filename             TARGET\n",
       "0     Benjamin_Netanyau_1194.wav  Benjamin_Netanyau\n",
       "1      Benjamin_Netanyau_260.wav  Benjamin_Netanyau\n",
       "2     Benjamin_Netanyau_1032.wav  Benjamin_Netanyau\n",
       "3      Benjamin_Netanyau_536.wav  Benjamin_Netanyau\n",
       "4      Benjamin_Netanyau_855.wav  Benjamin_Netanyau\n",
       "...                          ...                ...\n",
       "7496     Nelson_Mandela_1266.wav     Nelson_Mandela\n",
       "7497      Nelson_Mandela_951.wav     Nelson_Mandela\n",
       "7498      Nelson_Mandela_748.wav     Nelson_Mandela\n",
       "7499       Nelson_Mandela_87.wav     Nelson_Mandela\n",
       "7500     Nelson_Mandela_1344.wav     Nelson_Mandela\n",
       "\n",
       "[7501 rows x 2 columns]"
      ]
     },
     "execution_count": 21,
     "metadata": {},
     "output_type": "execute_result"
    }
   ],
   "source": [
    "data_set"
   ]
  },
  {
   "cell_type": "code",
   "execution_count": 22,
   "id": "c4622442",
   "metadata": {
    "execution": {
     "iopub.execute_input": "2023-11-26T17:46:36.162674Z",
     "iopub.status.busy": "2023-11-26T17:46:36.162251Z",
     "iopub.status.idle": "2023-11-26T17:46:36.173104Z",
     "shell.execute_reply": "2023-11-26T17:46:36.171912Z"
    },
    "papermill": {
     "duration": 0.037162,
     "end_time": "2023-11-26T17:46:36.176059",
     "exception": false,
     "start_time": "2023-11-26T17:46:36.138897",
     "status": "completed"
    },
    "tags": []
   },
   "outputs": [],
   "source": [
    "data_set_train ,data_set_test = train_test_split(data_set,test_size=0.3,random_state=42)"
   ]
  },
  {
   "cell_type": "code",
   "execution_count": 23,
   "id": "38cd2de9",
   "metadata": {
    "execution": {
     "iopub.execute_input": "2023-11-26T17:46:36.221873Z",
     "iopub.status.busy": "2023-11-26T17:46:36.221451Z",
     "iopub.status.idle": "2023-11-26T17:46:36.234256Z",
     "shell.execute_reply": "2023-11-26T17:46:36.233302Z"
    },
    "papermill": {
     "duration": 0.039437,
     "end_time": "2023-11-26T17:46:36.236973",
     "exception": false,
     "start_time": "2023-11-26T17:46:36.197536",
     "status": "completed"
    },
    "tags": []
   },
   "outputs": [
    {
     "data": {
      "text/html": [
       "<div>\n",
       "<style scoped>\n",
       "    .dataframe tbody tr th:only-of-type {\n",
       "        vertical-align: middle;\n",
       "    }\n",
       "\n",
       "    .dataframe tbody tr th {\n",
       "        vertical-align: top;\n",
       "    }\n",
       "\n",
       "    .dataframe thead th {\n",
       "        text-align: right;\n",
       "    }\n",
       "</style>\n",
       "<table border=\"1\" class=\"dataframe\">\n",
       "  <thead>\n",
       "    <tr style=\"text-align: right;\">\n",
       "      <th></th>\n",
       "      <th>Filename</th>\n",
       "      <th>TARGET</th>\n",
       "    </tr>\n",
       "  </thead>\n",
       "  <tbody>\n",
       "    <tr>\n",
       "      <th>4692</th>\n",
       "      <td>Magaret_Tarcher_1006.wav</td>\n",
       "      <td>Magaret_Tarcher</td>\n",
       "    </tr>\n",
       "    <tr>\n",
       "      <th>5263</th>\n",
       "      <td>Magaret_Tarcher_484.wav</td>\n",
       "      <td>Magaret_Tarcher</td>\n",
       "    </tr>\n",
       "    <tr>\n",
       "      <th>3277</th>\n",
       "      <td>Julia_Gillard_565.wav</td>\n",
       "      <td>Julia_Gillard</td>\n",
       "    </tr>\n",
       "    <tr>\n",
       "      <th>6400</th>\n",
       "      <td>Nelson_Mandela_1478.wav</td>\n",
       "      <td>Nelson_Mandela</td>\n",
       "    </tr>\n",
       "    <tr>\n",
       "      <th>2802</th>\n",
       "      <td>Jens_Stoltenberg_1218.wav</td>\n",
       "      <td>Jens_Stoltenberg</td>\n",
       "    </tr>\n",
       "    <tr>\n",
       "      <th>...</th>\n",
       "      <td>...</td>\n",
       "      <td>...</td>\n",
       "    </tr>\n",
       "    <tr>\n",
       "      <th>5191</th>\n",
       "      <td>Magaret_Tarcher_1438.wav</td>\n",
       "      <td>Magaret_Tarcher</td>\n",
       "    </tr>\n",
       "    <tr>\n",
       "      <th>5226</th>\n",
       "      <td>Magaret_Tarcher_1302.wav</td>\n",
       "      <td>Magaret_Tarcher</td>\n",
       "    </tr>\n",
       "    <tr>\n",
       "      <th>5390</th>\n",
       "      <td>Magaret_Tarcher_1248.wav</td>\n",
       "      <td>Magaret_Tarcher</td>\n",
       "    </tr>\n",
       "    <tr>\n",
       "      <th>860</th>\n",
       "      <td>Benjamin_Netanyau_533.wav</td>\n",
       "      <td>Benjamin_Netanyau</td>\n",
       "    </tr>\n",
       "    <tr>\n",
       "      <th>7270</th>\n",
       "      <td>Nelson_Mandela_140.wav</td>\n",
       "      <td>Nelson_Mandela</td>\n",
       "    </tr>\n",
       "  </tbody>\n",
       "</table>\n",
       "<p>5250 rows × 2 columns</p>\n",
       "</div>"
      ],
      "text/plain": [
       "                       Filename             TARGET\n",
       "4692   Magaret_Tarcher_1006.wav    Magaret_Tarcher\n",
       "5263    Magaret_Tarcher_484.wav    Magaret_Tarcher\n",
       "3277      Julia_Gillard_565.wav      Julia_Gillard\n",
       "6400    Nelson_Mandela_1478.wav     Nelson_Mandela\n",
       "2802  Jens_Stoltenberg_1218.wav   Jens_Stoltenberg\n",
       "...                         ...                ...\n",
       "5191   Magaret_Tarcher_1438.wav    Magaret_Tarcher\n",
       "5226   Magaret_Tarcher_1302.wav    Magaret_Tarcher\n",
       "5390   Magaret_Tarcher_1248.wav    Magaret_Tarcher\n",
       "860   Benjamin_Netanyau_533.wav  Benjamin_Netanyau\n",
       "7270     Nelson_Mandela_140.wav     Nelson_Mandela\n",
       "\n",
       "[5250 rows x 2 columns]"
      ]
     },
     "execution_count": 23,
     "metadata": {},
     "output_type": "execute_result"
    }
   ],
   "source": [
    "data_set_train"
   ]
  },
  {
   "cell_type": "code",
   "execution_count": 24,
   "id": "f11c4cf0",
   "metadata": {
    "execution": {
     "iopub.execute_input": "2023-11-26T17:46:36.285497Z",
     "iopub.status.busy": "2023-11-26T17:46:36.284955Z",
     "iopub.status.idle": "2023-11-26T17:46:36.295368Z",
     "shell.execute_reply": "2023-11-26T17:46:36.294172Z"
    },
    "papermill": {
     "duration": 0.038651,
     "end_time": "2023-11-26T17:46:36.297991",
     "exception": false,
     "start_time": "2023-11-26T17:46:36.259340",
     "status": "completed"
    },
    "tags": []
   },
   "outputs": [],
   "source": [
    "def return_features_with_noise(audio, noises):\n",
    "    y, sr = librosa.load(audio, sr=None)\n",
    "    \n",
    "    # Select a random noise sample and ensure it's the same length as `y`\n",
    "    noise = random.choice(noises)\n",
    "    if len(noise) > len(y):\n",
    "        noise = noise[:len(y)]\n",
    "    else:\n",
    "        noise = np.pad(noise, (0, max(0, len(y) - len(noise))), 'constant')\n",
    "\n",
    "    # Add the noise to the audio\n",
    "    y_noisy = y + noise*0.5\n",
    "\n",
    "    # Extract MFCCs and their deltas as before\n",
    "    mfccs = librosa.feature.mfcc(y=y_noisy, sr=sr, n_mfcc=13)\n",
    "    mfcc_delta = librosa.feature.delta(mfccs)\n",
    "    mfcc_delta2 = librosa.feature.delta(mfccs, order=2)\n",
    "\n",
    "    features = np.vstack([mfccs, mfcc_delta, mfcc_delta2])\n",
    "    return features.T"
   ]
  },
  {
   "cell_type": "code",
   "execution_count": 25,
   "id": "397b4ef5",
   "metadata": {
    "execution": {
     "iopub.execute_input": "2023-11-26T17:46:36.344890Z",
     "iopub.status.busy": "2023-11-26T17:46:36.344404Z",
     "iopub.status.idle": "2023-11-26T17:46:36.350984Z",
     "shell.execute_reply": "2023-11-26T17:46:36.349559Z"
    },
    "papermill": {
     "duration": 0.032896,
     "end_time": "2023-11-26T17:46:36.353455",
     "exception": false,
     "start_time": "2023-11-26T17:46:36.320559",
     "status": "completed"
    },
    "tags": []
   },
   "outputs": [],
   "source": [
    "def extract_combined_features(audio_file, noises):\n",
    "    # Extract features without noise\n",
    "    features_clean = return_features(audio_file)\n",
    "\n",
    "    # Extract features with noise\n",
    "    features_noisy = return_features_with_noise(audio_file, noises)\n",
    "\n",
    "    # Combine the features\n",
    "    combined_features = np.concatenate((features_clean, features_noisy), axis=0)\n",
    "    \n",
    "    return combined_features\n",
    "\n"
   ]
  },
  {
   "cell_type": "code",
   "execution_count": 26,
   "id": "8393c27b",
   "metadata": {
    "execution": {
     "iopub.execute_input": "2023-11-26T17:46:36.398837Z",
     "iopub.status.busy": "2023-11-26T17:46:36.398384Z",
     "iopub.status.idle": "2023-11-26T17:49:42.120300Z",
     "shell.execute_reply": "2023-11-26T17:49:42.118662Z"
    },
    "papermill": {
     "duration": 185.802039,
     "end_time": "2023-11-26T17:49:42.177329",
     "exception": false,
     "start_time": "2023-11-26T17:46:36.375290",
     "status": "completed"
    },
    "tags": []
   },
   "outputs": [
    {
     "name": "stderr",
     "output_type": "stream",
     "text": [
      "100%|██████████| 5/5 [03:05<00:00, 37.14s/it]\n"
     ]
    }
   ],
   "source": [
    "audio_features = []\n",
    "\n",
    "# Loop over each speaker class\n",
    "for speaker in tqdm(class_label):\n",
    "    speaker_features = []\n",
    "\n",
    "    # Folder path for the speaker\n",
    "    folder_path = os.path.join(path, speaker)\n",
    "\n",
    "    # Loop over each file for the speaker\n",
    "    for j in data_set_train.index:\n",
    "        if data_set_train['TARGET'][j] == speaker:\n",
    "            audio_file_name = data_set_train['Filename'][j]\n",
    "            audio_file = os.path.join(folder_path, audio_file_name)\n",
    "\n",
    "            # Extract combined features\n",
    "            combined_features = extract_combined_features(audio_file, noises)\n",
    "\n",
    "            # Append the features for this file to the list\n",
    "            speaker_features.extend(combined_features)\n",
    "\n",
    "    audio_features.append(speaker_features)"
   ]
  },
  {
   "cell_type": "code",
   "execution_count": 27,
   "id": "96e0145b",
   "metadata": {
    "execution": {
     "iopub.execute_input": "2023-11-26T17:49:42.252642Z",
     "iopub.status.busy": "2023-11-26T17:49:42.252138Z",
     "iopub.status.idle": "2023-11-26T17:49:42.261390Z",
     "shell.execute_reply": "2023-11-26T17:49:42.260008Z"
    },
    "papermill": {
     "duration": 0.037695,
     "end_time": "2023-11-26T17:49:42.264336",
     "exception": false,
     "start_time": "2023-11-26T17:49:42.226641",
     "status": "completed"
    },
    "tags": []
   },
   "outputs": [
    {
     "data": {
      "text/plain": [
       "array([[ 0.6796875 ,  0.32202148,  0.41156006, ..., -0.07870483,\n",
       "        -0.00308228,  0.1557312 ],\n",
       "       [ 0.12347412, -0.0255127 , -0.06317139, ...,  0.03457642,\n",
       "         0.2083435 ,  0.4513855 ],\n",
       "       [ 0.42971802,  0.2899475 ,  0.40582275, ..., -0.59317017,\n",
       "        -0.49490356, -0.60446167],\n",
       "       ...,\n",
       "       [ 0.04284668,  0.00843811, -0.00296021, ...,  0.03219604,\n",
       "        -0.00515747, -0.03042603],\n",
       "       [-0.04034424, -0.04818726, -0.05633545, ...,  0.00631714,\n",
       "         0.03829956,  0.02713013],\n",
       "       [-0.02148438, -0.05950928, -0.05187988, ..., -0.00717163,\n",
       "        -0.01553345, -0.01739502]], dtype=float32)"
      ]
     },
     "execution_count": 27,
     "metadata": {},
     "output_type": "execute_result"
    }
   ],
   "source": [
    "noises"
   ]
  },
  {
   "cell_type": "code",
   "execution_count": 28,
   "id": "eed9f6d7",
   "metadata": {
    "execution": {
     "iopub.execute_input": "2023-11-26T17:49:42.313126Z",
     "iopub.status.busy": "2023-11-26T17:49:42.312635Z",
     "iopub.status.idle": "2023-11-26T17:49:42.320294Z",
     "shell.execute_reply": "2023-11-26T17:49:42.318614Z"
    },
    "papermill": {
     "duration": 0.036627,
     "end_time": "2023-11-26T17:49:42.323972",
     "exception": false,
     "start_time": "2023-11-26T17:49:42.287345",
     "status": "completed"
    },
    "tags": []
   },
   "outputs": [
    {
     "name": "stdout",
     "output_type": "stream",
     "text": [
      "65408\n",
      "67328\n",
      "68800\n",
      "68544\n",
      "65920\n"
     ]
    }
   ],
   "source": [
    "for i in range(5):\n",
    "    print(len(audio_features[i]))"
   ]
  },
  {
   "cell_type": "code",
   "execution_count": 29,
   "id": "19b98503",
   "metadata": {
    "execution": {
     "iopub.execute_input": "2023-11-26T17:49:42.373947Z",
     "iopub.status.busy": "2023-11-26T17:49:42.372987Z",
     "iopub.status.idle": "2023-11-26T17:49:42.378916Z",
     "shell.execute_reply": "2023-11-26T17:49:42.377774Z"
    },
    "papermill": {
     "duration": 0.033608,
     "end_time": "2023-11-26T17:49:42.381266",
     "exception": false,
     "start_time": "2023-11-26T17:49:42.347658",
     "status": "completed"
    },
    "tags": []
   },
   "outputs": [],
   "source": [
    "def train_gmm(data):\n",
    "  gm = GaussianMixture(n_components=4, max_iter=160)\n",
    "  gm.fit(data)\n",
    "  return gm"
   ]
  },
  {
   "cell_type": "code",
   "execution_count": 30,
   "id": "7c676f1a",
   "metadata": {
    "execution": {
     "iopub.execute_input": "2023-11-26T17:49:42.431092Z",
     "iopub.status.busy": "2023-11-26T17:49:42.430610Z",
     "iopub.status.idle": "2023-11-26T17:50:41.484614Z",
     "shell.execute_reply": "2023-11-26T17:50:41.482794Z"
    },
    "papermill": {
     "duration": 59.088788,
     "end_time": "2023-11-26T17:50:41.493776",
     "exception": false,
     "start_time": "2023-11-26T17:49:42.404988",
     "status": "completed"
    },
    "tags": []
   },
   "outputs": [
    {
     "name": "stderr",
     "output_type": "stream",
     "text": [
      "100%|██████████| 5/5 [00:59<00:00, 11.81s/it]\n"
     ]
    }
   ],
   "source": [
    "gmm_model=[]\n",
    "i=0\n",
    "for temp in tqdm(audio_features):\n",
    "  gmm_model.append(train_gmm(temp))\n",
    "  #input('wait')\n",
    "  #print(i)\n",
    "  i=i+1"
   ]
  },
  {
   "cell_type": "code",
   "execution_count": 31,
   "id": "ef5b0d56",
   "metadata": {
    "execution": {
     "iopub.execute_input": "2023-11-26T17:50:41.572954Z",
     "iopub.status.busy": "2023-11-26T17:50:41.572465Z",
     "iopub.status.idle": "2023-11-26T17:50:41.592892Z",
     "shell.execute_reply": "2023-11-26T17:50:41.591765Z"
    },
    "papermill": {
     "duration": 0.051164,
     "end_time": "2023-11-26T17:50:41.597600",
     "exception": false,
     "start_time": "2023-11-26T17:50:41.546436",
     "status": "completed"
    },
    "tags": []
   },
   "outputs": [
    {
     "name": "stderr",
     "output_type": "stream",
     "text": [
      "100%|██████████| 5/5 [00:00<00:00, 495.25it/s]"
     ]
    },
    {
     "name": "stdout",
     "output_type": "stream",
     "text": [
      "0\n",
      "1\n",
      "2\n",
      "3\n",
      "4\n"
     ]
    },
    {
     "name": "stderr",
     "output_type": "stream",
     "text": [
      "\n"
     ]
    }
   ],
   "source": [
    "for i in tqdm(range(5)):\n",
    "    filename = 'gmm'+str(i)+'.joblib'\n",
    "    joblib.dump(gmm_model[i],filename)\n",
    "    print(i)"
   ]
  },
  {
   "cell_type": "code",
   "execution_count": 32,
   "id": "054b1ffa",
   "metadata": {
    "execution": {
     "iopub.execute_input": "2023-11-26T17:50:41.648470Z",
     "iopub.status.busy": "2023-11-26T17:50:41.648033Z",
     "iopub.status.idle": "2023-11-26T17:50:41.660738Z",
     "shell.execute_reply": "2023-11-26T17:50:41.659508Z"
    },
    "papermill": {
     "duration": 0.04157,
     "end_time": "2023-11-26T17:50:41.663740",
     "exception": false,
     "start_time": "2023-11-26T17:50:41.622170",
     "status": "completed"
    },
    "tags": []
   },
   "outputs": [],
   "source": [
    "saved_gmm=[]\n",
    "\n",
    "for i in range(5):\n",
    "    filename = 'gmm'+str(i)+'.joblib'\n",
    "    load_gmm = joblib.load(filename)\n",
    "    saved_gmm.append(load_gmm)"
   ]
  },
  {
   "cell_type": "code",
   "execution_count": 33,
   "id": "b3ca16a4",
   "metadata": {
    "execution": {
     "iopub.execute_input": "2023-11-26T17:50:41.717398Z",
     "iopub.status.busy": "2023-11-26T17:50:41.716948Z",
     "iopub.status.idle": "2023-11-26T17:50:41.737494Z",
     "shell.execute_reply": "2023-11-26T17:50:41.736178Z"
    },
    "papermill": {
     "duration": 0.051023,
     "end_time": "2023-11-26T17:50:41.740115",
     "exception": false,
     "start_time": "2023-11-26T17:50:41.689092",
     "status": "completed"
    },
    "tags": []
   },
   "outputs": [
    {
     "data": {
      "text/plain": [
       "[GaussianMixture(max_iter=160, n_components=4),\n",
       " GaussianMixture(max_iter=160, n_components=4),\n",
       " GaussianMixture(max_iter=160, n_components=4),\n",
       " GaussianMixture(max_iter=160, n_components=4),\n",
       " GaussianMixture(max_iter=160, n_components=4)]"
      ]
     },
     "execution_count": 33,
     "metadata": {},
     "output_type": "execute_result"
    }
   ],
   "source": [
    "saved_gmm\n"
   ]
  },
  {
   "cell_type": "code",
   "execution_count": 34,
   "id": "2fb64cfd",
   "metadata": {
    "execution": {
     "iopub.execute_input": "2023-11-26T17:50:41.792848Z",
     "iopub.status.busy": "2023-11-26T17:50:41.792316Z",
     "iopub.status.idle": "2023-11-26T17:50:41.799465Z",
     "shell.execute_reply": "2023-11-26T17:50:41.797909Z"
    },
    "papermill": {
     "duration": 0.036989,
     "end_time": "2023-11-26T17:50:41.802337",
     "exception": false,
     "start_time": "2023-11-26T17:50:41.765348",
     "status": "completed"
    },
    "tags": []
   },
   "outputs": [],
   "source": [
    "def get_label(test_data,gmm_model):\n",
    "  likelihood=[]\n",
    "  test_mfcc = return_features(test_data)\n",
    "  for class_model in gmm_model:\n",
    "    likelihood.append(class_model.score(test_mfcc))\n",
    "    #print(likelihood)\n",
    "    # print(likelihood.index(max(likelihood)))\n",
    "  return likelihood.index(max(likelihood))"
   ]
  },
  {
   "cell_type": "code",
   "execution_count": 35,
   "id": "06bfc3d1",
   "metadata": {
    "execution": {
     "iopub.execute_input": "2023-11-26T17:50:41.853916Z",
     "iopub.status.busy": "2023-11-26T17:50:41.853419Z",
     "iopub.status.idle": "2023-11-26T17:51:36.317208Z",
     "shell.execute_reply": "2023-11-26T17:51:36.314412Z"
    },
    "papermill": {
     "duration": 54.495574,
     "end_time": "2023-11-26T17:51:36.322983",
     "exception": false,
     "start_time": "2023-11-26T17:50:41.827409",
     "status": "completed"
    },
    "tags": []
   },
   "outputs": [
    {
     "name": "stderr",
     "output_type": "stream",
     "text": [
      "100%|██████████| 2251/2251 [00:54<00:00, 41.35it/s]\n"
     ]
    }
   ],
   "source": [
    "label_final= []\n",
    "for i in tqdm(data_set_test.index):\n",
    "    audio_file = data_set_test['Filename'][i]\n",
    "    folder_name = data_set_test['TARGET'][i]\n",
    "    file_path = os.path.join(path,folder_name,audio_file)\n",
    "    label_final.append(get_label(file_path,gmm_model))\n",
    "    "
   ]
  },
  {
   "cell_type": "code",
   "execution_count": 36,
   "id": "f166602b",
   "metadata": {
    "execution": {
     "iopub.execute_input": "2023-11-26T17:51:36.510644Z",
     "iopub.status.busy": "2023-11-26T17:51:36.509756Z",
     "iopub.status.idle": "2023-11-26T17:51:36.516062Z",
     "shell.execute_reply": "2023-11-26T17:51:36.514672Z"
    },
    "papermill": {
     "duration": 0.077581,
     "end_time": "2023-11-26T17:51:36.518530",
     "exception": false,
     "start_time": "2023-11-26T17:51:36.440949",
     "status": "completed"
    },
    "scrolled": true,
    "tags": []
   },
   "outputs": [],
   "source": [
    "#label_final"
   ]
  },
  {
   "cell_type": "code",
   "execution_count": 37,
   "id": "513cfd78",
   "metadata": {
    "execution": {
     "iopub.execute_input": "2023-11-26T17:51:36.655166Z",
     "iopub.status.busy": "2023-11-26T17:51:36.653893Z",
     "iopub.status.idle": "2023-11-26T17:51:36.669343Z",
     "shell.execute_reply": "2023-11-26T17:51:36.667827Z"
    },
    "papermill": {
     "duration": 0.087694,
     "end_time": "2023-11-26T17:51:36.672245",
     "exception": false,
     "start_time": "2023-11-26T17:51:36.584551",
     "status": "completed"
    },
    "tags": []
   },
   "outputs": [
    {
     "data": {
      "text/html": [
       "<div>\n",
       "<style scoped>\n",
       "    .dataframe tbody tr th:only-of-type {\n",
       "        vertical-align: middle;\n",
       "    }\n",
       "\n",
       "    .dataframe tbody tr th {\n",
       "        vertical-align: top;\n",
       "    }\n",
       "\n",
       "    .dataframe thead th {\n",
       "        text-align: right;\n",
       "    }\n",
       "</style>\n",
       "<table border=\"1\" class=\"dataframe\">\n",
       "  <thead>\n",
       "    <tr style=\"text-align: right;\">\n",
       "      <th></th>\n",
       "      <th>Filename</th>\n",
       "      <th>TARGET</th>\n",
       "    </tr>\n",
       "  </thead>\n",
       "  <tbody>\n",
       "    <tr>\n",
       "      <th>2310</th>\n",
       "      <td>Jens_Stoltenberg_385.wav</td>\n",
       "      <td>Jens_Stoltenberg</td>\n",
       "    </tr>\n",
       "    <tr>\n",
       "      <th>3347</th>\n",
       "      <td>Julia_Gillard_1426.wav</td>\n",
       "      <td>Julia_Gillard</td>\n",
       "    </tr>\n",
       "    <tr>\n",
       "      <th>3322</th>\n",
       "      <td>Julia_Gillard_468.wav</td>\n",
       "      <td>Julia_Gillard</td>\n",
       "    </tr>\n",
       "    <tr>\n",
       "      <th>4550</th>\n",
       "      <td>Magaret_Tarcher_76.wav</td>\n",
       "      <td>Magaret_Tarcher</td>\n",
       "    </tr>\n",
       "    <tr>\n",
       "      <th>5049</th>\n",
       "      <td>Magaret_Tarcher_1042.wav</td>\n",
       "      <td>Magaret_Tarcher</td>\n",
       "    </tr>\n",
       "    <tr>\n",
       "      <th>...</th>\n",
       "      <td>...</td>\n",
       "      <td>...</td>\n",
       "    </tr>\n",
       "    <tr>\n",
       "      <th>1773</th>\n",
       "      <td>Jens_Stoltenberg_351.wav</td>\n",
       "      <td>Jens_Stoltenberg</td>\n",
       "    </tr>\n",
       "    <tr>\n",
       "      <th>5476</th>\n",
       "      <td>Magaret_Tarcher_1448.wav</td>\n",
       "      <td>Magaret_Tarcher</td>\n",
       "    </tr>\n",
       "    <tr>\n",
       "      <th>1209</th>\n",
       "      <td>Benjamin_Netanyau_100.wav</td>\n",
       "      <td>Benjamin_Netanyau</td>\n",
       "    </tr>\n",
       "    <tr>\n",
       "      <th>3937</th>\n",
       "      <td>Julia_Gillard_571.wav</td>\n",
       "      <td>Julia_Gillard</td>\n",
       "    </tr>\n",
       "    <tr>\n",
       "      <th>4275</th>\n",
       "      <td>Julia_Gillard_58.wav</td>\n",
       "      <td>Julia_Gillard</td>\n",
       "    </tr>\n",
       "  </tbody>\n",
       "</table>\n",
       "<p>2251 rows × 2 columns</p>\n",
       "</div>"
      ],
      "text/plain": [
       "                       Filename             TARGET\n",
       "2310   Jens_Stoltenberg_385.wav   Jens_Stoltenberg\n",
       "3347     Julia_Gillard_1426.wav      Julia_Gillard\n",
       "3322      Julia_Gillard_468.wav      Julia_Gillard\n",
       "4550     Magaret_Tarcher_76.wav    Magaret_Tarcher\n",
       "5049   Magaret_Tarcher_1042.wav    Magaret_Tarcher\n",
       "...                         ...                ...\n",
       "1773   Jens_Stoltenberg_351.wav   Jens_Stoltenberg\n",
       "5476   Magaret_Tarcher_1448.wav    Magaret_Tarcher\n",
       "1209  Benjamin_Netanyau_100.wav  Benjamin_Netanyau\n",
       "3937      Julia_Gillard_571.wav      Julia_Gillard\n",
       "4275       Julia_Gillard_58.wav      Julia_Gillard\n",
       "\n",
       "[2251 rows x 2 columns]"
      ]
     },
     "execution_count": 37,
     "metadata": {},
     "output_type": "execute_result"
    }
   ],
   "source": [
    "data_set_test"
   ]
  },
  {
   "cell_type": "code",
   "execution_count": 38,
   "id": "d5f9cb68",
   "metadata": {
    "execution": {
     "iopub.execute_input": "2023-11-26T17:51:36.809453Z",
     "iopub.status.busy": "2023-11-26T17:51:36.808964Z",
     "iopub.status.idle": "2023-11-26T17:51:36.819670Z",
     "shell.execute_reply": "2023-11-26T17:51:36.818271Z"
    },
    "papermill": {
     "duration": 0.083022,
     "end_time": "2023-11-26T17:51:36.822578",
     "exception": false,
     "start_time": "2023-11-26T17:51:36.739556",
     "status": "completed"
    },
    "tags": []
   },
   "outputs": [],
   "source": [
    "mapped_list = []\n",
    "for i in label_final:\n",
    "    for key,value in class_label.items():\n",
    "        if(i==value):\n",
    "            mapped_list.append(key)\n",
    "        #if(i == j.value):\n",
    "        #    mapped_list.append(j.key)"
   ]
  },
  {
   "cell_type": "code",
   "execution_count": 39,
   "id": "fc75ccf5",
   "metadata": {
    "execution": {
     "iopub.execute_input": "2023-11-26T17:51:36.961578Z",
     "iopub.status.busy": "2023-11-26T17:51:36.961067Z",
     "iopub.status.idle": "2023-11-26T17:51:36.968020Z",
     "shell.execute_reply": "2023-11-26T17:51:36.966512Z"
    },
    "papermill": {
     "duration": 0.078416,
     "end_time": "2023-11-26T17:51:36.970541",
     "exception": false,
     "start_time": "2023-11-26T17:51:36.892125",
     "status": "completed"
    },
    "tags": []
   },
   "outputs": [],
   "source": [
    "count = Counter(mapped_list)"
   ]
  },
  {
   "cell_type": "code",
   "execution_count": 40,
   "id": "b257684c",
   "metadata": {
    "execution": {
     "iopub.execute_input": "2023-11-26T17:51:37.110514Z",
     "iopub.status.busy": "2023-11-26T17:51:37.110014Z",
     "iopub.status.idle": "2023-11-26T17:51:37.118534Z",
     "shell.execute_reply": "2023-11-26T17:51:37.116962Z"
    },
    "papermill": {
     "duration": 0.080987,
     "end_time": "2023-11-26T17:51:37.121320",
     "exception": false,
     "start_time": "2023-11-26T17:51:37.040333",
     "status": "completed"
    },
    "tags": []
   },
   "outputs": [
    {
     "data": {
      "text/plain": [
       "Counter({'Benjamin_Netanyau': 476,\n",
       "         'Nelson_Mandela': 470,\n",
       "         'Jens_Stoltenberg': 453,\n",
       "         'Magaret_Tarcher': 429,\n",
       "         'Julia_Gillard': 423})"
      ]
     },
     "execution_count": 40,
     "metadata": {},
     "output_type": "execute_result"
    }
   ],
   "source": [
    "count"
   ]
  },
  {
   "cell_type": "code",
   "execution_count": 41,
   "id": "8122049f",
   "metadata": {
    "execution": {
     "iopub.execute_input": "2023-11-26T17:51:37.263644Z",
     "iopub.status.busy": "2023-11-26T17:51:37.263124Z",
     "iopub.status.idle": "2023-11-26T17:51:37.279333Z",
     "shell.execute_reply": "2023-11-26T17:51:37.277909Z"
    },
    "papermill": {
     "duration": 0.091654,
     "end_time": "2023-11-26T17:51:37.282276",
     "exception": false,
     "start_time": "2023-11-26T17:51:37.190622",
     "status": "completed"
    },
    "tags": []
   },
   "outputs": [],
   "source": [
    "accuracy = accuracy_score(data_set_test['TARGET'],mapped_list)"
   ]
  },
  {
   "cell_type": "code",
   "execution_count": 42,
   "id": "1acc10ef",
   "metadata": {
    "execution": {
     "iopub.execute_input": "2023-11-26T17:51:37.424645Z",
     "iopub.status.busy": "2023-11-26T17:51:37.424186Z",
     "iopub.status.idle": "2023-11-26T17:51:37.431457Z",
     "shell.execute_reply": "2023-11-26T17:51:37.430044Z"
    },
    "papermill": {
     "duration": 0.082827,
     "end_time": "2023-11-26T17:51:37.434120",
     "exception": false,
     "start_time": "2023-11-26T17:51:37.351293",
     "status": "completed"
    },
    "tags": []
   },
   "outputs": [
    {
     "name": "stdout",
     "output_type": "stream",
     "text": [
      "0.9968902709906708\n"
     ]
    }
   ],
   "source": [
    "print(accuracy)"
   ]
  },
  {
   "cell_type": "markdown",
   "id": "f5941b2d",
   "metadata": {
    "papermill": {
     "duration": 0.070646,
     "end_time": "2023-11-26T17:51:37.573505",
     "exception": false,
     "start_time": "2023-11-26T17:51:37.502859",
     "status": "completed"
    },
    "tags": []
   },
   "source": [
    "EER"
   ]
  },
  {
   "cell_type": "code",
   "execution_count": 43,
   "id": "e04f67bd",
   "metadata": {
    "execution": {
     "iopub.execute_input": "2023-11-26T17:51:37.716566Z",
     "iopub.status.busy": "2023-11-26T17:51:37.715320Z",
     "iopub.status.idle": "2023-11-26T17:51:37.722083Z",
     "shell.execute_reply": "2023-11-26T17:51:37.720839Z"
    },
    "papermill": {
     "duration": 0.080666,
     "end_time": "2023-11-26T17:51:37.725183",
     "exception": false,
     "start_time": "2023-11-26T17:51:37.644517",
     "status": "completed"
    },
    "tags": []
   },
   "outputs": [],
   "source": [
    "def get_scores(test_data, gmm_models):\n",
    "    test_mfcc = return_features(test_data)\n",
    "    scores = [model.score(test_mfcc) for model in gmm_models]\n",
    "    return scores"
   ]
  },
  {
   "cell_type": "code",
   "execution_count": 44,
   "id": "65bc2a82",
   "metadata": {
    "execution": {
     "iopub.execute_input": "2023-11-26T17:51:37.869332Z",
     "iopub.status.busy": "2023-11-26T17:51:37.868823Z",
     "iopub.status.idle": "2023-11-26T17:51:37.877065Z",
     "shell.execute_reply": "2023-11-26T17:51:37.875475Z"
    },
    "papermill": {
     "duration": 0.083226,
     "end_time": "2023-11-26T17:51:37.879478",
     "exception": false,
     "start_time": "2023-11-26T17:51:37.796252",
     "status": "completed"
    },
    "tags": []
   },
   "outputs": [],
   "source": [
    "from sklearn.metrics import roc_curve\n",
    "from scipy.optimize import brentq\n",
    "from scipy.interpolate import interp1d\n",
    "\n",
    "def calculate_eer(y_true, y_scores):\n",
    "    fpr, tpr, thresholds = roc_curve(y_true, y_scores)\n",
    "    eer = brentq(lambda x: 1. - x - interp1d(fpr, tpr)(x), 0., 1.)\n",
    "    thresh = interp1d(fpr, thresholds)(eer)\n",
    "    return eer, thresh"
   ]
  },
  {
   "cell_type": "code",
   "execution_count": 45,
   "id": "61c123ba",
   "metadata": {
    "execution": {
     "iopub.execute_input": "2023-11-26T17:51:38.022089Z",
     "iopub.status.busy": "2023-11-26T17:51:38.020776Z",
     "iopub.status.idle": "2023-11-26T17:52:29.656451Z",
     "shell.execute_reply": "2023-11-26T17:52:29.654482Z"
    },
    "papermill": {
     "duration": 51.715006,
     "end_time": "2023-11-26T17:52:29.663179",
     "exception": false,
     "start_time": "2023-11-26T17:51:37.948173",
     "status": "completed"
    },
    "tags": []
   },
   "outputs": [],
   "source": [
    "y_true = []\n",
    "y_scores = []\n",
    "\n",
    "for index, row in data_set_test.iterrows():\n",
    "    audio_file = row['Filename']\n",
    "    true_label = row['TARGET']\n",
    "    file_path = os.path.join(path, true_label, audio_file)\n",
    "\n",
    "    if os.path.exists(file_path):\n",
    "        scores = get_scores(file_path, saved_gmm)\n",
    "        true_label_index = class_label[true_label]\n",
    "        y_scores.append(scores[true_label_index])\n",
    "        y_true.append(1)  # Genuine case\n",
    "\n",
    "        # Add impostor cases\n",
    "        for impostor_label in class_label:\n",
    "            if impostor_label != true_label:\n",
    "                impostor_label_index = class_label[impostor_label]\n",
    "                y_scores.append(scores[impostor_label_index])\n",
    "                y_true.append(0)  # Impostor case"
   ]
  },
  {
   "cell_type": "code",
   "execution_count": 46,
   "id": "8a37c195",
   "metadata": {
    "execution": {
     "iopub.execute_input": "2023-11-26T17:52:29.858177Z",
     "iopub.status.busy": "2023-11-26T17:52:29.857664Z",
     "iopub.status.idle": "2023-11-26T17:52:29.876057Z",
     "shell.execute_reply": "2023-11-26T17:52:29.874489Z"
    },
    "papermill": {
     "duration": 0.091781,
     "end_time": "2023-11-26T17:52:29.878881",
     "exception": false,
     "start_time": "2023-11-26T17:52:29.787100",
     "status": "completed"
    },
    "tags": []
   },
   "outputs": [
    {
     "name": "stdout",
     "output_type": "stream",
     "text": [
      "EER: 0.23722789871168407, Threshold: -108.82020017408117\n"
     ]
    }
   ],
   "source": [
    "eer, threshold = calculate_eer(y_true, y_scores)\n",
    "print(f\"EER: {eer}, Threshold: {threshold}\")"
   ]
  },
  {
   "cell_type": "code",
   "execution_count": null,
   "id": "fa5f3940",
   "metadata": {
    "papermill": {
     "duration": 0.071252,
     "end_time": "2023-11-26T17:52:30.021668",
     "exception": false,
     "start_time": "2023-11-26T17:52:29.950416",
     "status": "completed"
    },
    "tags": []
   },
   "outputs": [],
   "source": []
  },
  {
   "cell_type": "markdown",
   "id": "fd58d032",
   "metadata": {
    "papermill": {
     "duration": 0.069664,
     "end_time": "2023-11-26T17:52:30.162755",
     "exception": false,
     "start_time": "2023-11-26T17:52:30.093091",
     "status": "completed"
    },
    "tags": []
   },
   "source": [
    "FOR SCRIPT FILE"
   ]
  },
  {
   "cell_type": "code",
   "execution_count": 47,
   "id": "d0fd9453",
   "metadata": {
    "execution": {
     "iopub.execute_input": "2023-11-26T17:52:30.301295Z",
     "iopub.status.busy": "2023-11-26T17:52:30.300806Z",
     "iopub.status.idle": "2023-11-26T17:52:30.312701Z",
     "shell.execute_reply": "2023-11-26T17:52:30.311286Z"
    },
    "papermill": {
     "duration": 0.084638,
     "end_time": "2023-11-26T17:52:30.315762",
     "exception": false,
     "start_time": "2023-11-26T17:52:30.231124",
     "status": "completed"
    },
    "tags": []
   },
   "outputs": [],
   "source": [
    "gmm_models = [joblib.load(f'gmm{i}.joblib') for i in range(5)]"
   ]
  },
  {
   "cell_type": "code",
   "execution_count": 48,
   "id": "7c4c6ddf",
   "metadata": {
    "execution": {
     "iopub.execute_input": "2023-11-26T17:52:30.455994Z",
     "iopub.status.busy": "2023-11-26T17:52:30.454802Z",
     "iopub.status.idle": "2023-11-26T17:52:30.460455Z",
     "shell.execute_reply": "2023-11-26T17:52:30.459516Z"
    },
    "papermill": {
     "duration": 0.07871,
     "end_time": "2023-11-26T17:52:30.462772",
     "exception": false,
     "start_time": "2023-11-26T17:52:30.384062",
     "status": "completed"
    },
    "tags": []
   },
   "outputs": [],
   "source": [
    "def get_speaker_label(feature, gmm_models):\n",
    "    \"\"\"Determine the most likely speaker for the given feature.\"\"\"\n",
    "    scores = [model.score(feature) for model in gmm_models]\n",
    "    return np.argmax(scores)"
   ]
  },
  {
   "cell_type": "code",
   "execution_count": 49,
   "id": "08c8133b",
   "metadata": {
    "execution": {
     "iopub.execute_input": "2023-11-26T17:52:30.606867Z",
     "iopub.status.busy": "2023-11-26T17:52:30.606409Z",
     "iopub.status.idle": "2023-11-26T17:52:30.612259Z",
     "shell.execute_reply": "2023-11-26T17:52:30.610672Z"
    },
    "papermill": {
     "duration": 0.082827,
     "end_time": "2023-11-26T17:52:30.614817",
     "exception": false,
     "start_time": "2023-11-26T17:52:30.531990",
     "status": "completed"
    },
    "tags": []
   },
   "outputs": [],
   "source": [
    "label_to_speaker = {value: key for key, value in class_label.items()}"
   ]
  },
  {
   "cell_type": "code",
   "execution_count": 50,
   "id": "c002de76",
   "metadata": {
    "execution": {
     "iopub.execute_input": "2023-11-26T17:52:30.757115Z",
     "iopub.status.busy": "2023-11-26T17:52:30.755614Z",
     "iopub.status.idle": "2023-11-26T17:52:30.763223Z",
     "shell.execute_reply": "2023-11-26T17:52:30.761993Z"
    },
    "papermill": {
     "duration": 0.080331,
     "end_time": "2023-11-26T17:52:30.766026",
     "exception": false,
     "start_time": "2023-11-26T17:52:30.685695",
     "status": "completed"
    },
    "tags": []
   },
   "outputs": [],
   "source": [
    "def compare_speakers(file1, file2, gmm_models, label_to_speaker):\n",
    "    \"\"\"Compare two speakers and return True if they are the same, along with their names.\"\"\"\n",
    "    features1 = return_features(file1)\n",
    "    features2 = return_features(file2)\n",
    "    \n",
    "    speaker1_label = get_speaker_label(features1, gmm_models)\n",
    "    speaker2_label = get_speaker_label(features2, gmm_models)\n",
    "\n",
    "    speaker1_name = label_to_speaker[speaker1_label]\n",
    "    speaker2_name = label_to_speaker[speaker2_label]\n",
    "    \n",
    "    same_speaker = speaker1_label == speaker2_label\n",
    "    return same_speaker, speaker1_name, speaker2_name"
   ]
  },
  {
   "cell_type": "code",
   "execution_count": 51,
   "id": "7c89b0e4",
   "metadata": {
    "execution": {
     "iopub.execute_input": "2023-11-26T17:52:30.907194Z",
     "iopub.status.busy": "2023-11-26T17:52:30.906760Z",
     "iopub.status.idle": "2023-11-26T17:52:31.008058Z",
     "shell.execute_reply": "2023-11-26T17:52:31.006786Z"
    },
    "papermill": {
     "duration": 0.17819,
     "end_time": "2023-11-26T17:52:31.013604",
     "exception": false,
     "start_time": "2023-11-26T17:52:30.835414",
     "status": "completed"
    },
    "tags": []
   },
   "outputs": [
    {
     "name": "stdout",
     "output_type": "stream",
     "text": [
      "speaker 1 : Benjamin_Netanyau\n",
      "speaker 2 : Julia_Gillard\n",
      "Same speaker : False\n",
      "speaker 1 : Nelson_Mandela\n",
      "speaker 2 : Nelson_Mandela\n",
      "Same speaker : True\n"
     ]
    }
   ],
   "source": [
    "with open('/kaggle/input/testpair/test_pairs.txt', 'r') as file:\n",
    "    pairs = [line.strip().split(',') for line in file.readlines()]\n",
    "for file1, file2 in pairs:\n",
    "    same_speaker, speaker1, speaker2 = compare_speakers(file1, file2, gmm_models, label_to_speaker)\n",
    "    print(\"speaker 1 :\",speaker1)\n",
    "    print(\"speaker 2 :\",speaker2)\n",
    "    print(\"Same speaker :\",same_speaker)"
   ]
  },
  {
   "cell_type": "code",
   "execution_count": 52,
   "id": "1df19568",
   "metadata": {
    "execution": {
     "iopub.execute_input": "2023-11-26T17:52:31.204909Z",
     "iopub.status.busy": "2023-11-26T17:52:31.204421Z",
     "iopub.status.idle": "2023-11-26T17:52:31.209751Z",
     "shell.execute_reply": "2023-11-26T17:52:31.208556Z"
    },
    "papermill": {
     "duration": 0.078265,
     "end_time": "2023-11-26T17:52:31.212265",
     "exception": false,
     "start_time": "2023-11-26T17:52:31.134000",
     "status": "completed"
    },
    "tags": []
   },
   "outputs": [],
   "source": [
    "file1=\"/kaggle/working/speaker-recognition-dataset/16000_pcm_speeches/audio/Benjamin_Netanyau/Benjamin_Netanyau_560.wav\"\n",
    "file2=\"/kaggle/working/speaker-recognition-dataset/16000_pcm_speeches/audio/Julia_Gillard/Julia_Gillard_29.wav\""
   ]
  },
  {
   "cell_type": "code",
   "execution_count": 53,
   "id": "e21bc6ba",
   "metadata": {
    "execution": {
     "iopub.execute_input": "2023-11-26T17:52:31.354186Z",
     "iopub.status.busy": "2023-11-26T17:52:31.353697Z",
     "iopub.status.idle": "2023-11-26T17:52:31.398430Z",
     "shell.execute_reply": "2023-11-26T17:52:31.397250Z"
    },
    "papermill": {
     "duration": 0.122211,
     "end_time": "2023-11-26T17:52:31.402752",
     "exception": false,
     "start_time": "2023-11-26T17:52:31.280541",
     "status": "completed"
    },
    "tags": []
   },
   "outputs": [
    {
     "name": "stdout",
     "output_type": "stream",
     "text": [
      "speaker 1 : Benjamin_Netanyau\n",
      "speaker 2 : Julia_Gillard\n",
      "Same speaker : False\n"
     ]
    }
   ],
   "source": [
    "same_speaker, speaker1, speaker2 = compare_speakers(file1, file2, gmm_models, label_to_speaker)\n",
    "print(\"speaker 1 :\",speaker1)\n",
    "print(\"speaker 2 :\",speaker2)\n",
    "print(\"Same speaker :\",same_speaker)"
   ]
  },
  {
   "cell_type": "code",
   "execution_count": 54,
   "id": "04de67ea",
   "metadata": {
    "execution": {
     "iopub.execute_input": "2023-11-26T17:52:31.599214Z",
     "iopub.status.busy": "2023-11-26T17:52:31.598700Z",
     "iopub.status.idle": "2023-11-26T17:52:31.604149Z",
     "shell.execute_reply": "2023-11-26T17:52:31.602923Z"
    },
    "papermill": {
     "duration": 0.08137,
     "end_time": "2023-11-26T17:52:31.606530",
     "exception": false,
     "start_time": "2023-11-26T17:52:31.525160",
     "status": "completed"
    },
    "tags": []
   },
   "outputs": [],
   "source": [
    "file3=\"/kaggle/working/speaker-recognition-dataset/16000_pcm_speeches/audio/Julia_Gillard/Julia_Gillard_707.wav\"\n",
    "file4=\"/kaggle/working/speaker-recognition-dataset/16000_pcm_speeches/audio/Julia_Gillard/Julia_Gillard_0.wav\""
   ]
  },
  {
   "cell_type": "code",
   "execution_count": 55,
   "id": "76813f2b",
   "metadata": {
    "execution": {
     "iopub.execute_input": "2023-11-26T17:52:31.747398Z",
     "iopub.status.busy": "2023-11-26T17:52:31.746619Z",
     "iopub.status.idle": "2023-11-26T17:52:31.792407Z",
     "shell.execute_reply": "2023-11-26T17:52:31.791220Z"
    },
    "papermill": {
     "duration": 0.121645,
     "end_time": "2023-11-26T17:52:31.797382",
     "exception": false,
     "start_time": "2023-11-26T17:52:31.675737",
     "status": "completed"
    },
    "tags": []
   },
   "outputs": [
    {
     "name": "stdout",
     "output_type": "stream",
     "text": [
      "speaker 1 : Julia_Gillard\n",
      "speaker 2 : Jens_Stoltenberg\n",
      "Same speaker : False\n"
     ]
    }
   ],
   "source": [
    "same_speaker, speaker1, speaker2 = compare_speakers(file3, file4, gmm_models, label_to_speaker)\n",
    "print(\"speaker 1 :\",speaker1)\n",
    "print(\"speaker 2 :\",speaker2)\n",
    "print(\"Same speaker :\",same_speaker)"
   ]
  },
  {
   "cell_type": "code",
   "execution_count": 56,
   "id": "4985d016",
   "metadata": {
    "execution": {
     "iopub.execute_input": "2023-11-26T17:52:31.990968Z",
     "iopub.status.busy": "2023-11-26T17:52:31.990486Z",
     "iopub.status.idle": "2023-11-26T17:52:31.996181Z",
     "shell.execute_reply": "2023-11-26T17:52:31.995158Z"
    },
    "papermill": {
     "duration": 0.078609,
     "end_time": "2023-11-26T17:52:31.998458",
     "exception": false,
     "start_time": "2023-11-26T17:52:31.919849",
     "status": "completed"
    },
    "tags": []
   },
   "outputs": [],
   "source": [
    "file5=\"/kaggle/input/noisy-data/benjamin.wav\"\n",
    "file6=\"/kaggle/working/speaker-recognition-dataset/16000_pcm_speeches/audio/Benjamin_Netanyau/Benjamin_Netanyau_1400.wav\""
   ]
  },
  {
   "cell_type": "code",
   "execution_count": 57,
   "id": "83b3e691",
   "metadata": {
    "execution": {
     "iopub.execute_input": "2023-11-26T17:52:32.136299Z",
     "iopub.status.busy": "2023-11-26T17:52:32.134842Z",
     "iopub.status.idle": "2023-11-26T17:52:32.372603Z",
     "shell.execute_reply": "2023-11-26T17:52:32.370780Z"
    },
    "papermill": {
     "duration": 0.312242,
     "end_time": "2023-11-26T17:52:32.377833",
     "exception": false,
     "start_time": "2023-11-26T17:52:32.065591",
     "status": "completed"
    },
    "tags": []
   },
   "outputs": [
    {
     "name": "stdout",
     "output_type": "stream",
     "text": [
      "speaker 1 : Benjamin_Netanyau\n",
      "speaker 2 : Benjamin_Netanyau\n",
      "Same speaker : True\n"
     ]
    }
   ],
   "source": [
    "same_speaker, speaker1, speaker2 = compare_speakers(file5, file6, gmm_models, label_to_speaker)\n",
    "print(\"speaker 1 :\",speaker1)\n",
    "print(\"speaker 2 :\",speaker2)\n",
    "print(\"Same speaker :\",same_speaker)"
   ]
  },
  {
   "cell_type": "code",
   "execution_count": null,
   "id": "3456bfd6",
   "metadata": {
    "papermill": {
     "duration": 0.07148,
     "end_time": "2023-11-26T17:52:32.573383",
     "exception": false,
     "start_time": "2023-11-26T17:52:32.501903",
     "status": "completed"
    },
    "tags": []
   },
   "outputs": [],
   "source": []
  },
  {
   "cell_type": "code",
   "execution_count": null,
   "id": "47c3ef37",
   "metadata": {
    "papermill": {
     "duration": 0.068319,
     "end_time": "2023-11-26T17:52:32.713491",
     "exception": false,
     "start_time": "2023-11-26T17:52:32.645172",
     "status": "completed"
    },
    "tags": []
   },
   "outputs": [],
   "source": []
  }
 ],
 "metadata": {
  "kaggle": {
   "accelerator": "none",
   "dataSources": [
    {
     "datasetId": 470244,
     "sourceId": 881667,
     "sourceType": "datasetVersion"
    },
    {
     "datasetId": 4061326,
     "sourceId": 7055901,
     "sourceType": "datasetVersion"
    },
    {
     "datasetId": 4061887,
     "sourceId": 7056647,
     "sourceType": "datasetVersion"
    },
    {
     "datasetId": 4062047,
     "sourceId": 7056869,
     "sourceType": "datasetVersion"
    }
   ],
   "dockerImageVersionId": 30587,
   "isGpuEnabled": false,
   "isInternetEnabled": true,
   "language": "python",
   "sourceType": "notebook"
  },
  "kernelspec": {
   "display_name": "Python 3",
   "language": "python",
   "name": "python3"
  },
  "language_info": {
   "codemirror_mode": {
    "name": "ipython",
    "version": 3
   },
   "file_extension": ".py",
   "mimetype": "text/x-python",
   "name": "python",
   "nbconvert_exporter": "python",
   "pygments_lexer": "ipython3",
   "version": "3.10.12"
  },
  "papermill": {
   "default_parameters": {},
   "duration": 413.885387,
   "end_time": "2023-11-26T17:52:35.315451",
   "environment_variables": {},
   "exception": null,
   "input_path": "__notebook__.ipynb",
   "output_path": "__notebook__.ipynb",
   "parameters": {},
   "start_time": "2023-11-26T17:45:41.430064",
   "version": "2.4.0"
  }
 },
 "nbformat": 4,
 "nbformat_minor": 5
}
